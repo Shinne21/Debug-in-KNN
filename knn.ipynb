{
 "cells": [
  {
   "cell_type": "code",
   "execution_count": 1,
   "id": "8d3769da",
   "metadata": {},
   "outputs": [],
   "source": [
    "from IPython.core.interactiveshell import InteractiveShell\n",
    "InteractiveShell.ast_node_interactivity = \"all\""
   ]
  },
  {
   "cell_type": "code",
   "execution_count": 2,
   "id": "81d4787c",
   "metadata": {},
   "outputs": [],
   "source": [
    "import numpy as np\n",
    "from numpy.random import default_rng\n",
    "import pandas as pd\n",
    "import matplotlib.pyplot as plt\n",
    "from plotnine import *\n",
    "from sklearn.linear_model import LinearRegression"
   ]
  },
  {
   "cell_type": "code",
   "execution_count": 3,
   "id": "de6a998a",
   "metadata": {},
   "outputs": [
    {
     "data": {
      "text/html": [
       "<div>\n",
       "<style scoped>\n",
       "    .dataframe tbody tr th:only-of-type {\n",
       "        vertical-align: middle;\n",
       "    }\n",
       "\n",
       "    .dataframe tbody tr th {\n",
       "        vertical-align: top;\n",
       "    }\n",
       "\n",
       "    .dataframe thead th {\n",
       "        text-align: right;\n",
       "    }\n",
       "</style>\n",
       "<table border=\"1\" class=\"dataframe\">\n",
       "  <thead>\n",
       "    <tr style=\"text-align: right;\">\n",
       "      <th></th>\n",
       "      <th>x1</th>\n",
       "      <th>x2</th>\n",
       "      <th>y</th>\n",
       "    </tr>\n",
       "  </thead>\n",
       "  <tbody>\n",
       "    <tr>\n",
       "      <th>0</th>\n",
       "      <td>1</td>\n",
       "      <td>-10</td>\n",
       "      <td>0.970438</td>\n",
       "    </tr>\n",
       "    <tr>\n",
       "      <th>1</th>\n",
       "      <td>2</td>\n",
       "      <td>-10</td>\n",
       "      <td>1.142187</td>\n",
       "    </tr>\n",
       "    <tr>\n",
       "      <th>2</th>\n",
       "      <td>3</td>\n",
       "      <td>-10</td>\n",
       "      <td>1.286042</td>\n",
       "    </tr>\n",
       "  </tbody>\n",
       "</table>\n",
       "</div>"
      ],
      "text/plain": [
       "   x1  x2         y\n",
       "0   1 -10  0.970438\n",
       "1   2 -10  1.142187\n",
       "2   3 -10  1.286042"
      ]
     },
     "execution_count": 3,
     "metadata": {},
     "output_type": "execute_result"
    }
   ],
   "source": [
    "dfe = pd.read_csv('/Users/huwendi/Desktop/DS1/Homework/Mid term/knndata.csv', header = 0, index_col = None)\n",
    "dfe.head(3)"
   ]
  },
  {
   "cell_type": "code",
   "execution_count": 4,
   "id": "170fc478",
   "metadata": {},
   "outputs": [],
   "source": [
    "y_knn=[]\n",
    "for i in range(dfe.shape[0]):\n",
    "    dfe['dist'] = (dfe.x1[i] - dfe['x1'])**2+(dfe.x2[i] - dfe['x2'])**2#the fourth x,print(df.x[3])\n",
    "    dfe_y=dfe.sort_values(by=['dist'])\n",
    "    if dfe_y.dist[9]==dfe_y.dist[10]:\n",
    "        \n",
    "        ye_values_c = dfe_y.y[:10]\n",
    "        avg_ye=sum(ye_values_c)/10\n",
    "        y_knn.append(avg_ye)\n",
    "    \n",
    "        \n",
    "    else:\n",
    "        dfe_y = dfe_y.reset_index(drop=True)#give the table new index\n",
    "        ye_values=dfe_y.y[:10][dfe_y.dist!=dfe_y.dist[9]]\n",
    "        ye_values_append=dfe_y.y[dfe_y.dist==dfe_y.dist[9]]\n",
    "        ye_values_c = pd.concat([ye_values, ye_values_append])\n",
    "        avg_ye=np.mean(ye_values_c)\n",
    "        y_knn.append(avg_ye)\n"
   ]
  },
  {
   "cell_type": "code",
   "execution_count": 5,
   "id": "a265998c",
   "metadata": {},
   "outputs": [
    {
     "name": "stdout",
     "output_type": "stream",
     "text": [
      "0.12061688659051709\n"
     ]
    }
   ],
   "source": [
    "se = (dfe.y - y_knn)**2\n",
    "RMSE = (np.mean(se))**2\n",
    "print(RMSE)"
   ]
  },
  {
   "cell_type": "code",
   "execution_count": 6,
   "id": "92144093",
   "metadata": {},
   "outputs": [],
   "source": [
    "dfe['knn']=y_knn\n",
    "y_knn1 = dfe['knn'].values.reshape(-1, 1)\n",
    "y = dfe[\"y\"].values.reshape(-1, 1)\n",
    "reg = LinearRegression().fit(y_knn1, y)\n",
    "y_hat = reg.intercept_ + reg.coef_ * y"
   ]
  },
  {
   "cell_type": "code",
   "execution_count": 7,
   "id": "c5b23b3e",
   "metadata": {},
   "outputs": [
    {
     "data": {
      "text/plain": [
       "[<matplotlib.lines.Line2D at 0x7f8d71384b50>]"
      ]
     },
     "execution_count": 7,
     "metadata": {},
     "output_type": "execute_result"
    },
    {
     "data": {
      "text/plain": [
       "<matplotlib.collections.PathCollection at 0x7f8d71384d90>"
      ]
     },
     "execution_count": 7,
     "metadata": {},
     "output_type": "execute_result"
    },
    {
     "data": {
      "text/plain": [
       "Text(0.5, 1.0, '0.12061688659051709')"
      ]
     },
     "execution_count": 7,
     "metadata": {},
     "output_type": "execute_result"
    },
    {
     "data": {
      "text/plain": [
       "Text(0.5, 0, 'y')"
      ]
     },
     "execution_count": 7,
     "metadata": {},
     "output_type": "execute_result"
    },
    {
     "data": {
      "text/plain": [
       "Text(0, 0.5, 'yhat')"
      ]
     },
     "execution_count": 7,
     "metadata": {},
     "output_type": "execute_result"
    },
    {
     "data": {
      "image/png": "[encoded data removed]",
      "text/plain": [
       "<Figure size 640x480 with 1 Axes>"
      ]
     },
     "metadata": {},
     "output_type": "display_data"
    }
   ],
   "source": [
    "plt.plot(y,y_hat,color='b')\n",
    "plt.scatter(dfe.y, y_knn,color=\"lightblue\")\n",
    "plt.title(RMSE)\n",
    "plt.xlabel('y')\n",
    "plt.ylabel('yhat')\n",
    "plt.show()\n"
   ]
  },
  {
   "cell_type": "code",
   "execution_count": null,
   "id": "e2ef1b5b",
   "metadata": {},
   "outputs": [],
   "source": []
  }
 ],
 "metadata": {
  "kernelspec": {
   "display_name": "env_ds_311",
   "language": "python",
   "name": "env_ds_311"
  },
  "language_info": {
   "codemirror_mode": {
    "name": "ipython",
    "version": 3
   },
   "file_extension": ".py",
   "mimetype": "text/x-python",
   "name": "python",
   "nbconvert_exporter": "python",
   "pygments_lexer": "ipython3",
   "version": "3.9.13"
  }
 },
 "nbformat": 4,
 "nbformat_minor": 5
}
